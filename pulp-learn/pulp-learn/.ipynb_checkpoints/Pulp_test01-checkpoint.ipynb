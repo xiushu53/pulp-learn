{
 "cells": [
  {
   "cell_type": "code",
   "execution_count": 1,
   "id": "7c5bf788",
   "metadata": {},
   "outputs": [],
   "source": [
    "import pulp as pl"
   ]
  },
  {
   "cell_type": "code",
   "execution_count": 38,
   "id": "bffe4169",
   "metadata": {},
   "outputs": [],
   "source": [
    "problem = pl.LpProblem('SLE', pl.LpMaximize)\n",
    "x1 = pl.LpVariable('x1', cat='Continuous')\n",
    "x2 = pl.LpVariable('y2', cat='Continuous')"
   ]
  },
  {
   "cell_type": "code",
   "execution_count": 39,
   "id": "3f847f6e",
   "metadata": {},
   "outputs": [],
   "source": [
    "problem += x1 >= 0\n",
    "problem += x2 >= 0\n",
    "problem += x1 + x2 <= 6\n",
    "problem += x1 + 3 * x2 <= 12\n",
    "problem += 2 * x1 + x2 <= 10\n",
    "problem += x1 + 2 * x2"
   ]
  },
  {
   "cell_type": "code",
   "execution_count": 40,
   "id": "262b899f",
   "metadata": {},
   "outputs": [
    {
     "data": {
      "text/plain": [
       "SLE:\n",
       "MAXIMIZE\n",
       "1*x1 + 2*y2 + 0\n",
       "SUBJECT TO\n",
       "_C1: x1 >= 0\n",
       "\n",
       "_C2: y2 >= 0\n",
       "\n",
       "_C3: x1 + y2 <= 6\n",
       "\n",
       "_C4: x1 + 3 y2 <= 12\n",
       "\n",
       "_C5: 2 x1 + y2 <= 10\n",
       "\n",
       "VARIABLES\n",
       "x1 free Continuous\n",
       "y2 free Continuous"
      ]
     },
     "execution_count": 40,
     "metadata": {},
     "output_type": "execute_result"
    }
   ],
   "source": [
    "problem"
   ]
  },
  {
   "cell_type": "code",
   "execution_count": 41,
   "id": "e63bb871",
   "metadata": {},
   "outputs": [
    {
     "name": "stdout",
     "output_type": "stream",
     "text": [
      "Welcome to the CBC MILP Solver \n",
      "Version: 2.10.3 \n",
      "Build Date: Dec 15 2019 \n",
      "\n",
      "command line - /Users/nakanehideki/pulp-learn/pulp-learn/.venv/lib/python3.8/site-packages/pulp/apis/../solverdir/cbc/osx/64/cbc /var/folders/3n/dym7y0pj7h531p4vhyyz7by00000gn/T/3ab6fab3fb264fac8a2c6d29523e5afb-pulp.mps max timeMode elapsed branch printingOptions all solution /var/folders/3n/dym7y0pj7h531p4vhyyz7by00000gn/T/3ab6fab3fb264fac8a2c6d29523e5afb-pulp.sol (default strategy 1)\n",
      "At line 2 NAME          MODEL\n",
      "At line 3 ROWS\n",
      "At line 10 COLUMNS\n",
      "At line 21 RHS\n",
      "At line 27 BOUNDS\n",
      "At line 30 ENDATA\n",
      "Problem MODEL has 5 rows, 2 columns and 8 elements\n",
      "Coin0008I MODEL read with 0 errors\n",
      "Option for timeMode changed from cpu to elapsed\n",
      "Presolve 3 (-2) rows, 2 (0) columns and 6 (-2) elements\n",
      "0  Obj -0 Dual inf 2.999998 (2)\n",
      "2  Obj 9\n",
      "Optimal - objective value 9\n",
      "After Postsolve, objective 9, infeasibilities - dual 0 (0), primal 0 (0)\n",
      "Optimal objective 9 - 2 iterations time 0.002, Presolve 0.00\n",
      "Option for printingOptions changed from normal to all\n",
      "Total time (CPU seconds):       0.00   (Wallclock seconds):       0.01\n",
      "\n"
     ]
    }
   ],
   "source": [
    "status = problem.solve()"
   ]
  },
  {
   "cell_type": "code",
   "execution_count": 42,
   "id": "eee70420",
   "metadata": {},
   "outputs": [
    {
     "data": {
      "text/plain": [
       "('Status: ', 'Optimal')"
      ]
     },
     "execution_count": 42,
     "metadata": {},
     "output_type": "execute_result"
    }
   ],
   "source": [
    "'Status: ', pl.LpStatus[status]"
   ]
  },
  {
   "cell_type": "code",
   "execution_count": 43,
   "id": "537ad9a5",
   "metadata": {},
   "outputs": [
    {
     "data": {
      "text/plain": [
       "('x1=', 3.0, 'x2=', 3.0)"
      ]
     },
     "execution_count": 43,
     "metadata": {},
     "output_type": "execute_result"
    }
   ],
   "source": [
    "'x1=', x1.value(), 'x2=', x2.value()"
   ]
  },
  {
   "cell_type": "code",
   "execution_count": 18,
   "id": "8e666941",
   "metadata": {},
   "outputs": [],
   "source": [
    "problem2 = pl.LpProblem('SLE', pl.LpMinimize)\n",
    "x2 = pl.LpVariable('x2', cat='Continuous')\n",
    "y2 = pl.LpVariable('y2', cat='Continuous')\n",
    "z2 = pl.LpVariable('z2', cat='Continuous')\n",
    "z3 = pl.LpVariable('z3', cat='Continuous')"
   ]
  },
  {
   "cell_type": "code",
   "execution_count": 19,
   "id": "7ce545ac",
   "metadata": {},
   "outputs": [],
   "source": [
    "problem2 += 2 * x2 + y2 <= 4\n",
    "problem2 += -2 * x2 - y2 <= -4\n",
    "problem2 += x2 - 2 * z2 + 2 * z3 <= 8\n",
    "problem2 += -3 * y2 - z2 + z3 <= -6 \n",
    "problem2 += x2 >= 0\n",
    "problem2 += y2 >= 0\n",
    "problem2 += z2 >= 0\n",
    "problem2 += z3 >= 0\n",
    "problem2 += -3 * x2 + -4 * y2 + 2 * z2 - 2 * z3"
   ]
  },
  {
   "cell_type": "code",
   "execution_count": 20,
   "id": "4af1b7d2",
   "metadata": {},
   "outputs": [
    {
     "name": "stdout",
     "output_type": "stream",
     "text": [
      "Welcome to the CBC MILP Solver \n",
      "Version: 2.10.3 \n",
      "Build Date: Dec 15 2019 \n",
      "\n",
      "command line - /Users/nakanehideki/pulp-learn/pulp-learn/.venv/lib/python3.8/site-packages/pulp/apis/../solverdir/cbc/osx/64/cbc /var/folders/3n/dym7y0pj7h531p4vhyyz7by00000gn/T/45bf4f6651dc450a805bb5b75d7fb5ff-pulp.mps timeMode elapsed branch printingOptions all solution /var/folders/3n/dym7y0pj7h531p4vhyyz7by00000gn/T/45bf4f6651dc450a805bb5b75d7fb5ff-pulp.sol (default strategy 1)\n",
      "At line 2 NAME          MODEL\n",
      "At line 3 ROWS\n",
      "At line 13 COLUMNS\n",
      "At line 32 RHS\n",
      "At line 41 BOUNDS\n",
      "At line 46 ENDATA\n",
      "Problem MODEL has 8 rows, 4 columns and 14 elements\n",
      "Coin0008I MODEL read with 0 errors\n",
      "Option for timeMode changed from cpu to elapsed\n",
      "Presolve 2 (-6) rows, 2 (-2) columns and 4 (-10) elements\n",
      "0  Obj -16 Dual inf 1.999999 (1)\n",
      "0  Obj -16 Dual inf 1.999999 (1)\n",
      "1  Obj -24\n",
      "Optimal - objective value -24\n",
      "After Postsolve, objective -24, infeasibilities - dual 0 (0), primal 0 (0)\n",
      "Optimal objective -24 - 1 iterations time 0.002, Presolve 0.00\n",
      "Option for printingOptions changed from normal to all\n",
      "Total time (CPU seconds):       0.00   (Wallclock seconds):       0.00\n",
      "\n"
     ]
    }
   ],
   "source": [
    "status2 = problem2.solve()"
   ]
  },
  {
   "cell_type": "code",
   "execution_count": 21,
   "id": "396dcb19",
   "metadata": {},
   "outputs": [
    {
     "data": {
      "text/plain": [
       "('Status: ', 'Optimal')"
      ]
     },
     "execution_count": 21,
     "metadata": {},
     "output_type": "execute_result"
    }
   ],
   "source": [
    "'Status: ', pl.LpStatus[status2]"
   ]
  },
  {
   "cell_type": "code",
   "execution_count": 22,
   "id": "ed27d9f9",
   "metadata": {},
   "outputs": [
    {
     "data": {
      "text/plain": [
       "('x2=', 0.0, 'y2=', 4.0, 'z2=', 0.0, 'z3=', 4.0)"
      ]
     },
     "execution_count": 22,
     "metadata": {},
     "output_type": "execute_result"
    }
   ],
   "source": [
    "'x2=', x2.value(), 'y2=', y2.value(), 'z2=',z2.value(), 'z3=',z3.value()"
   ]
  },
  {
   "cell_type": "code",
   "execution_count": 1,
   "id": "f5c892c0",
   "metadata": {},
   "outputs": [
    {
     "name": "stderr",
     "output_type": "stream",
     "text": [
      "/Users/nakanehideki/pulp-learn/pulp-learn/.venv/lib/python3.8/site-packages/pandas/compat/__init__.py:124: UserWarning: Could not import the lzma module. Your installed Python is incomplete. Attempting to use lzma compression will result in a RuntimeError.\n",
      "  warnings.warn(msg)\n"
     ]
    }
   ],
   "source": [
    "import numpy as np\n",
    "import pandas as pd\n",
    "import matplotlib.pyplot as plt\n",
    "import seaborn as sns\n",
    "%matplotlib inline\n",
    "import japanize_matplotlib"
   ]
  },
  {
   "cell_type": "code",
   "execution_count": 2,
   "id": "3f832acb",
   "metadata": {},
   "outputs": [],
   "source": [
    "xx = np.array([1,2,3,4])\n",
    "yy = np.array([5,4,3,2])"
   ]
  },
  {
   "cell_type": "code",
   "execution_count": 3,
   "id": "3e27822b",
   "metadata": {},
   "outputs": [
    {
     "data": {
      "text/plain": [
       "array([5, 8, 9, 8])"
      ]
     },
     "execution_count": 3,
     "metadata": {},
     "output_type": "execute_result"
    }
   ],
   "source": [
    "xx * yy"
   ]
  },
  {
   "cell_type": "code",
   "execution_count": 4,
   "id": "99455c60",
   "metadata": {},
   "outputs": [
    {
     "data": {
      "text/html": [
       "<div>\n",
       "<style scoped>\n",
       "    .dataframe tbody tr th:only-of-type {\n",
       "        vertical-align: middle;\n",
       "    }\n",
       "\n",
       "    .dataframe tbody tr th {\n",
       "        vertical-align: top;\n",
       "    }\n",
       "\n",
       "    .dataframe thead th {\n",
       "        text-align: right;\n",
       "    }\n",
       "</style>\n",
       "<table border=\"1\" class=\"dataframe\">\n",
       "  <thead>\n",
       "    <tr style=\"text-align: right;\">\n",
       "      <th></th>\n",
       "      <th>0</th>\n",
       "      <th>1</th>\n",
       "      <th>2</th>\n",
       "      <th>3</th>\n",
       "    </tr>\n",
       "  </thead>\n",
       "  <tbody>\n",
       "    <tr>\n",
       "      <th>0</th>\n",
       "      <td>1</td>\n",
       "      <td>2</td>\n",
       "      <td>3</td>\n",
       "      <td>4</td>\n",
       "    </tr>\n",
       "    <tr>\n",
       "      <th>1</th>\n",
       "      <td>5</td>\n",
       "      <td>4</td>\n",
       "      <td>3</td>\n",
       "      <td>2</td>\n",
       "    </tr>\n",
       "  </tbody>\n",
       "</table>\n",
       "</div>"
      ],
      "text/plain": [
       "   0  1  2  3\n",
       "0  1  2  3  4\n",
       "1  5  4  3  2"
      ]
     },
     "execution_count": 4,
     "metadata": {},
     "output_type": "execute_result"
    }
   ],
   "source": [
    "data = pd.DataFrame([xx,yy])\n",
    "data"
   ]
  },
  {
   "cell_type": "code",
   "execution_count": 5,
   "id": "8c003d7f",
   "metadata": {},
   "outputs": [
    {
     "data": {
      "text/plain": [
       "<AxesSubplot:>"
      ]
     },
     "execution_count": 5,
     "metadata": {},
     "output_type": "execute_result"
    },
    {
     "data": {
      "image/png": "[encoded data removed]",
      "text/plain": [
       "<Figure size 432x288 with 1 Axes>"
      ]
     },
     "metadata": {
      "needs_background": "light"
     },
     "output_type": "display_data"
    }
   ],
   "source": [
    "data.plot()"
   ]
  },
  {
   "cell_type": "code",
   "execution_count": 6,
   "id": "993b4835",
   "metadata": {},
   "outputs": [],
   "source": [
    "data.columns = [\"愛\",\"上\",\"岡\",\"きく\"]"
   ]
  },
  {
   "cell_type": "code",
   "execution_count": 8,
   "id": "d3274ff8",
   "metadata": {},
   "outputs": [
    {
     "data": {
      "text/plain": [
       "<AxesSubplot:title={'center':'あいう'}>"
      ]
     },
     "execution_count": 8,
     "metadata": {},
     "output_type": "execute_result"
    },
    {
     "data": {
      "image/png": "[encoded data removed]",
      "text/plain": [
       "<Figure size 432x288 with 1 Axes>"
      ]
     },
     "metadata": {
      "needs_background": "light"
     },
     "output_type": "display_data"
    }
   ],
   "source": [
    "data.plot(title=\"あいう\")"
   ]
  },
  {
   "cell_type": "code",
   "execution_count": 9,
   "id": "fb5afce0",
   "metadata": {},
   "outputs": [
    {
     "data": {
      "text/plain": [
       "<AxesSubplot:>"
      ]
     },
     "execution_count": 9,
     "metadata": {},
     "output_type": "execute_result"
    },
    {
     "data": {
      "image/png": "[encoded data removed]",
      "text/plain": [
       "<Figure size 432x288 with 2 Axes>"
      ]
     },
     "metadata": {
      "needs_background": "light"
     },
     "output_type": "display_data"
    }
   ],
   "source": [
    "sns.heatmap(data)"
   ]
  },
  {
   "cell_type": "code",
   "execution_count": null,
   "id": "a0cfeded",
   "metadata": {},
   "outputs": [],
   "source": [
    "problem = pl.Lp"
   ]
  }
 ],
 "metadata": {
  "kernelspec": {
   "display_name": "Python 3 (ipykernel)",
   "language": "python",
   "name": "python3"
  },
  "language_info": {
   "codemirror_mode": {
    "name": "ipython",
    "version": 3
   },
   "file_extension": ".py",
   "mimetype": "text/x-python",
   "name": "python",
   "nbconvert_exporter": "python",
   "pygments_lexer": "ipython3",
   "version": "3.8.1"
  }
 },
 "nbformat": 4,
 "nbformat_minor": 5
}
